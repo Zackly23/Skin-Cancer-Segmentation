{
  "nbformat": 4,
  "nbformat_minor": 0,
  "metadata": {
    "colab": {
      "provenance": [],
      "include_colab_link": true
    },
    "kernelspec": {
      "name": "python3",
      "display_name": "Python 3"
    },
    "language_info": {
      "name": "python"
    },
    "gpuClass": "standard",
    "accelerator": "GPU"
  },
  "cells": [
    {
      "cell_type": "markdown",
      "metadata": {
        "id": "view-in-github",
        "colab_type": "text"
      },
      "source": [
        "<a href=\"https://colab.research.google.com/github/Zackly23/Skin-Cancer-Segmentation/blob/main/Copy_of_TESTING_EVALUATION_SKIN_CANCER_YOLACT_SIMPLIFIED.ipynb\" target=\"_parent\"><img src=\"https://colab.research.google.com/assets/colab-badge.svg\" alt=\"Open In Colab\"/></a>"
      ]
    },
    {
      "cell_type": "markdown",
      "source": [
        "#Dikerjakan oleh:<br>\n",
        "##**David Dwi Nugroho**<br>\n",
        "##**19/439103/PA/18296**"
      ],
      "metadata": {
        "id": "mLE7YYKPJHW3"
      }
    },
    {
      "cell_type": "markdown",
      "source": [
        "#Install Requirement"
      ],
      "metadata": {
        "id": "QESkD5zPJKjv"
      }
    },
    {
      "cell_type": "code",
      "execution_count": null,
      "metadata": {
        "id": "87iFLAhII9hH",
        "colab": {
          "base_uri": "https://localhost:8080/"
        },
        "outputId": "a601d1bb-f63b-4780-8a11-829bdca86d53"
      },
      "outputs": [
        {
          "output_type": "stream",
          "name": "stdout",
          "text": [
            "Looking in indexes: https://pypi.org/simple, https://us-python.pkg.dev/colab-wheels/public/simple/\n",
            "Requirement already satisfied: cython in /usr/local/lib/python3.7/dist-packages (0.29.30)\n",
            "Looking in indexes: https://pypi.org/simple, https://us-python.pkg.dev/colab-wheels/public/simple/\n",
            "Requirement already satisfied: opencv-python in /usr/local/lib/python3.7/dist-packages (4.1.2.30)\n",
            "Requirement already satisfied: pillow in /usr/local/lib/python3.7/dist-packages (7.1.2)\n",
            "Requirement already satisfied: pycocotools in /usr/local/lib/python3.7/dist-packages (2.0.4)\n",
            "Requirement already satisfied: matplotlib in /usr/local/lib/python3.7/dist-packages (3.2.2)\n",
            "Requirement already satisfied: numpy>=1.14.5 in /usr/local/lib/python3.7/dist-packages (from opencv-python) (1.21.6)\n",
            "Requirement already satisfied: python-dateutil>=2.1 in /usr/local/lib/python3.7/dist-packages (from matplotlib) (2.8.2)\n",
            "Requirement already satisfied: kiwisolver>=1.0.1 in /usr/local/lib/python3.7/dist-packages (from matplotlib) (1.4.3)\n",
            "Requirement already satisfied: pyparsing!=2.0.4,!=2.1.2,!=2.1.6,>=2.0.1 in /usr/local/lib/python3.7/dist-packages (from matplotlib) (3.0.9)\n",
            "Requirement already satisfied: cycler>=0.10 in /usr/local/lib/python3.7/dist-packages (from matplotlib) (0.11.0)\n",
            "Requirement already satisfied: typing-extensions in /usr/local/lib/python3.7/dist-packages (from kiwisolver>=1.0.1->matplotlib) (4.1.1)\n",
            "Requirement already satisfied: six>=1.5 in /usr/local/lib/python3.7/dist-packages (from python-dateutil>=2.1->matplotlib) (1.15.0)\n",
            "Looking in indexes: https://pypi.org/simple, https://us-python.pkg.dev/colab-wheels/public/simple/\n",
            "Collecting torchvision==0.5.0\n",
            "  Downloading torchvision-0.5.0-cp37-cp37m-manylinux1_x86_64.whl (4.0 MB)\n",
            "\u001b[K     |████████████████████████████████| 4.0 MB 42.1 MB/s \n",
            "\u001b[?25hRequirement already satisfied: six in /usr/local/lib/python3.7/dist-packages (from torchvision==0.5.0) (1.15.0)\n",
            "Collecting torch==1.4.0\n",
            "  Downloading torch-1.4.0-cp37-cp37m-manylinux1_x86_64.whl (753.4 MB)\n",
            "\u001b[K     |████████████████████████████████| 753.4 MB 7.4 kB/s \n",
            "\u001b[?25hRequirement already satisfied: pillow>=4.1.1 in /usr/local/lib/python3.7/dist-packages (from torchvision==0.5.0) (7.1.2)\n",
            "Requirement already satisfied: numpy in /usr/local/lib/python3.7/dist-packages (from torchvision==0.5.0) (1.21.6)\n",
            "Installing collected packages: torch, torchvision\n",
            "  Attempting uninstall: torch\n",
            "    Found existing installation: torch 1.11.0+cu113\n",
            "    Uninstalling torch-1.11.0+cu113:\n",
            "      Successfully uninstalled torch-1.11.0+cu113\n",
            "  Attempting uninstall: torchvision\n",
            "    Found existing installation: torchvision 0.12.0+cu113\n",
            "    Uninstalling torchvision-0.12.0+cu113:\n",
            "      Successfully uninstalled torchvision-0.12.0+cu113\n",
            "\u001b[31mERROR: pip's dependency resolver does not currently take into account all the packages that are installed. This behaviour is the source of the following dependency conflicts.\n",
            "torchtext 0.12.0 requires torch==1.11.0, but you have torch 1.4.0 which is incompatible.\n",
            "torchaudio 0.11.0+cu113 requires torch==1.11.0, but you have torch 1.4.0 which is incompatible.\n",
            "fastai 2.6.3 requires torch<1.12,>=1.7.0, but you have torch 1.4.0 which is incompatible.\n",
            "fastai 2.6.3 requires torchvision>=0.8.2, but you have torchvision 0.5.0 which is incompatible.\u001b[0m\n",
            "Successfully installed torch-1.4.0 torchvision-0.5.0\n",
            "Looking in indexes: https://pypi.org/simple, https://us-python.pkg.dev/colab-wheels/public/simple/\n",
            "Requirement already satisfied: torch==1.4.0 in /usr/local/lib/python3.7/dist-packages (1.4.0)\n"
          ]
        }
      ],
      "source": [
        "!pip install cython\n",
        "!pip install opencv-python pillow pycocotools matplotlib\n",
        "!pip install torchvision==0.5.0\n",
        "#downgrade torch\n",
        "!pip install torch==1.4.0"
      ]
    },
    {
      "cell_type": "code",
      "source": [
        "%matplotlib inline\n",
        "import matplotlib.pyplot as plt\n"
      ],
      "metadata": {
        "id": "vtexVhnIsqyX"
      },
      "execution_count": null,
      "outputs": []
    },
    {
      "cell_type": "markdown",
      "source": [
        "#Download All file (google drive) and put all of it in your own google drive"
      ],
      "metadata": {
        "id": "nqYRTOSQJWVM"
      }
    },
    {
      "cell_type": "code",
      "source": [
        "####Blank Code#####"
      ],
      "metadata": {
        "id": "UMA0C2rUJf1-"
      },
      "execution_count": null,
      "outputs": []
    },
    {
      "cell_type": "markdown",
      "source": [
        "#Mount your Google Drive"
      ],
      "metadata": {
        "id": "sFz0L6RWJjpl"
      }
    },
    {
      "cell_type": "code",
      "source": [
        "from google.colab import drive\n",
        "drive.mount('/content/drive')"
      ],
      "metadata": {
        "id": "pXAoJWx1JpDE",
        "colab": {
          "base_uri": "https://localhost:8080/"
        },
        "outputId": "1b86500b-97c1-49bf-8d00-17cd07c9524a"
      },
      "execution_count": null,
      "outputs": [
        {
          "output_type": "stream",
          "name": "stdout",
          "text": [
            "Mounted at /content/drive\n"
          ]
        }
      ]
    },
    {
      "cell_type": "markdown",
      "source": [
        "##compile deformable convolutional layers (CUDA toolkit)"
      ],
      "metadata": {
        "id": "9koGRbFwJtPI"
      }
    },
    {
      "cell_type": "code",
      "source": [
        "%cd /content/drive/MyDrive/yolact/external/DCNv2\n",
        "\n",
        "!python setup.py build develop"
      ],
      "metadata": {
        "id": "kztFq9bvJtVc",
        "colab": {
          "base_uri": "https://localhost:8080/"
        },
        "outputId": "a82d9415-3f9e-4dd7-c07f-f919e1463931"
      },
      "execution_count": null,
      "outputs": [
        {
          "output_type": "stream",
          "name": "stdout",
          "text": [
            "/content/drive/MyDrive/yolact/external/DCNv2\n",
            "running build\n",
            "running build_ext\n",
            "running develop\n",
            "running egg_info\n",
            "writing DCNv2.egg-info/PKG-INFO\n",
            "writing dependency_links to DCNv2.egg-info/dependency_links.txt\n",
            "writing top-level names to DCNv2.egg-info/top_level.txt\n",
            "adding license file 'LICENSE'\n",
            "writing manifest file 'DCNv2.egg-info/SOURCES.txt'\n",
            "running build_ext\n",
            "copying build/lib.linux-x86_64-3.7/_ext.cpython-37m-x86_64-linux-gnu.so -> \n",
            "Creating /usr/local/lib/python3.7/dist-packages/DCNv2.egg-link (link to .)\n",
            "Adding DCNv2 0.1 to easy-install.pth file\n",
            "\n",
            "Installed /content/drive/MyDrive/yolact/external/DCNv2\n",
            "Processing dependencies for DCNv2==0.1\n",
            "Finished processing dependencies for DCNv2==0.1\n"
          ]
        }
      ]
    },
    {
      "cell_type": "code",
      "source": [
        "%cd /content/drive/MyDrive/yolact\n",
        "from data import *\n",
        "from eval_1 import process\n",
        "\n",
        "\n",
        "config.set_cfg('yolact_resnet50_skin_cancer_config')\n",
        "process()"
      ],
      "metadata": {
        "id": "Ncs66DYXu9oJ"
      },
      "execution_count": null,
      "outputs": []
    },
    {
      "cell_type": "markdown",
      "source": [
        "#Evaluate your model using test data (image, video, or using webcam)"
      ],
      "metadata": {
        "id": "WqhCbIGUJzLt"
      }
    },
    {
      "cell_type": "code",
      "source": [
        "%cd /content/drive/MyDrive/yolact\n",
        "\n",
        "!python eval.py --trained_model=/content/drive/MyDrive/yolact/weights/skin_cancer_segmentation_239_30000.pth --config=yolact_resnet50_skin_cancer_config --score_threshold=0.15 --top_k=15 \\\n",
        "--image='/content/drive/MyDrive/yolact/dataset/test/image/malignant (133).jpg':/content/output_image\n",
        "\n",
        "# os.rename('/content/output_image/drive_boat_0.png', '/content/output_image/b_.jpg')"
      ],
      "metadata": {
        "id": "QRuaDnVkJz3h",
        "colab": {
          "base_uri": "https://localhost:8080/"
        },
        "outputId": "05fd4359-584d-4c8f-ee3b-551405e412d9"
      },
      "execution_count": null,
      "outputs": [
        {
          "output_type": "stream",
          "name": "stdout",
          "text": [
            "/content/drive/MyDrive/yolact\n",
            "Loading model... Done.\n",
            "/content/drive/MyDrive/yolact/dataset/test/image/malignant (133).jpg\n",
            "path drive\n",
            "out_dir /content/output_image\n",
            "/content/output_image/drive_mask0.png\n"
          ]
        }
      ]
    },
    {
      "cell_type": "markdown",
      "source": [
        "#Jaccard dan Dice Coefficient"
      ],
      "metadata": {
        "id": "_-qiAdvzLIUX"
      }
    },
    {
      "cell_type": "markdown",
      "source": [
        "###Check file ipynb"
      ],
      "metadata": {
        "id": "sWTbNJfkLPKK"
      }
    },
    {
      "cell_type": "code",
      "source": [
        "import shutil\n",
        "import os\n",
        "\n",
        "remove_item = '.ipynb_checkpoints'\n",
        "src = os.listdir('/content/output_image')\n",
        "dst = '/content/drive/MyDrive/yolact/dataset/predicted'\n",
        "train_remove = '/content/output_image' + '/' + remove_item\n",
        "# os.rmdir(train_remove)\n",
        "\n",
        "for image in src:\n",
        "  path = '/content/output_image/' + image\n",
        "  out = '/content/drive/MyDrive/yolact/dataset/predicted' + image\n",
        "  shutil.copyfile(path, out)"
      ],
      "metadata": {
        "id": "_7OXSGLB1E_x"
      },
      "execution_count": null,
      "outputs": []
    },
    {
      "cell_type": "markdown",
      "source": [
        "##Jaccard Index and Dice Coefficient"
      ],
      "metadata": {
        "id": "9STmn9KoLUvB"
      }
    },
    {
      "cell_type": "code",
      "source": [
        "import numpy as np\n",
        "import matplotlib.pyplot as plt\n",
        "from sklearn.metrics import jaccard_score\n",
        "import cv2\n",
        "import os\n",
        "\n",
        "def dice(pred, true, k = 1):\n",
        "    intersection = np.sum(pred[true==k]) * 2.0\n",
        "    dice = intersection / (np.sum(pred) + np.sum(true))\n",
        "    return dice\n",
        "\n",
        "path_pred = '/content/drive/MyDrive/yolact/dataset/predicted/'\n",
        "path_gt = '/content/drive/MyDrive/yolact/dataset/segmented_test/image/'\n",
        "\n",
        "predicted = os.listdir('/content/drive/MyDrive/yolact/dataset/predicted')\n",
        "ground_truth = os.listdir('/content/drive/MyDrive/yolact/dataset/segmented_test/image')\n",
        "\n",
        "predicted.sort()\n",
        "ground_truth.sort()\n",
        "\n",
        "jaccard_index = list()\n",
        "dice_coefficient = list()\n",
        "for data in range(len(predicted)):\n",
        "# segmentation\n",
        "  path_seg = path_pred + predicted[data]\n",
        "  seg = cv2.imread(path_seg)\n",
        "\n",
        "# ground truth\n",
        "  path_grt = path_gt + ground_truth[data]\n",
        "  gt = cv2.imread(path_grt)\n",
        "  \n",
        "\n",
        "  img_true=np.array(seg).flatten().astype('uint8')\n",
        "  img_pred=np.array(gt).flatten().astype('uint8')\n",
        "  ji = jaccard_score(img_true,img_pred,average='micro')\n",
        "  dice_score = dice(seg, gt, k = 255)\n",
        "  jaccard_index.append(ji)\n",
        "  dice_coefficient.append(dice_score)"
      ],
      "metadata": {
        "id": "fn9GsHEXFhM8"
      },
      "execution_count": null,
      "outputs": []
    },
    {
      "cell_type": "code",
      "source": [
        "jaccard_index = np.array(jaccard_index)\n",
        "dice_coefficient = np.array(dice_coefficient)\n",
        "jaccard_index.mean(), dice_coefficient.mean()\n"
      ],
      "metadata": {
        "id": "x_YUnLR15K7_",
        "colab": {
          "base_uri": "https://localhost:8080/"
        },
        "outputId": "d361cdf2-5db5-4c43-bc5d-4f660d09c695"
      },
      "execution_count": null,
      "outputs": [
        {
          "output_type": "execute_result",
          "data": {
            "text/plain": [
              "(0.8597359032571993, 0.8956473618924728)"
            ]
          },
          "metadata": {},
          "execution_count": 8
        }
      ]
    }
  ]
}